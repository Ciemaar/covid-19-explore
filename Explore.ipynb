{
 "cells": [
  {
   "cell_type": "markdown",
   "metadata": {
    "colab_type": "text",
    "id": "RWhx9MbMRLZM"
   },
   "source": [
    "# Covid-19 Data Exploration\n",
    "\n",
    "Based on COVID-19 Open Data Demo.  Data from [Johns Hopkins Coronavirus Resource Center](https://coronavirus.jhu.edu/).  Thanks to MongoDB Atlas for hosting the data.  See [Their article](https://developer.mongodb.com/article/johns-hopkins-university-covid-19-data-atlas) if you want to work on this or https://github.com/Ciemaar/covid-19-explore to work on this notebook."
   ]
  },
  {
   "cell_type": "code",
   "execution_count": null,
   "metadata": {
    "colab": {
     "base_uri": "https://localhost:8080/",
     "height": 51
    },
    "colab_type": "code",
    "id": "gC87eTGhLKf-",
    "outputId": "9b64d692-bd61-469d-e837-b53972e64265"
   },
   "outputs": [],
   "source": [
    "from datetime import datetime\n",
    "import json\n",
    "from itertools import chain\n",
    "\n",
    "#import dovpanda\n",
    "\n",
    "from data_access import *\n",
    "from display import *\n",
    "from analysis import *\n",
    "\n",
    "pn.extension()\n",
    "\n",
    "config = json.load(open('config.json'))\n",
    "SHORT_LOOKBACK = config['short_lookback']\n",
    "LONG_LOOKBACK = config['long_lookback']\n",
    "\n",
    "# Get the last date loaded:\n",
    "\n",
    "pn.Row(pn.widgets.StaticText(name='Based on data up to',value=last_date),\n",
    "       pn.widgets.StaticText(name='Last full day',value=last_full_date))"
   ]
  },
  {
   "cell_type": "code",
   "execution_count": null,
   "metadata": {
    "colab_type": "text",
    "id": "9q4Tt_EiTaxO"
   },
   "outputs": [],
   "source": [
    "# Helper functions"
   ]
  },
  {
   "cell_type": "markdown",
   "metadata": {},
   "source": [
    "### Sample record\n",
    "\n",
    "This is the odd thing with Rhode Island, just one record of their data."
   ]
  },
  {
   "cell_type": "code",
   "execution_count": null,
   "metadata": {
    "colab": {
     "base_uri": "https://localhost:8080/",
     "height": 238
    },
    "colab_type": "code",
    "id": "MbydyfBvxnZI",
    "outputId": "8246f5be-bdc5-46cb-d053-1dc43a777dd1"
   },
   "outputs": [],
   "source": [
    "json_obj = stats.find_one({'combined_name':'Unassigned, Rhode Island, US',\n",
    "                'date': datetime(2020, 4, 14)})\n",
    "json_obj.pop('_id')\n",
    "json_obj['date']=str(json_obj['date'])\n",
    "pn.pane.JSON(json_obj, name='JSON')"
   ]
  },
  {
   "cell_type": "markdown",
   "metadata": {
    "colab_type": "text",
    "id": "095ojKlyU-t-"
   },
   "source": [
    "## Basic Numbers for our States"
   ]
  },
  {
   "cell_type": "code",
   "execution_count": null,
   "metadata": {
    "colab": {
     "base_uri": "https://localhost:8080/",
     "height": 250
    },
    "colab_type": "code",
    "id": "zMAt7rmbQ0Nk",
    "outputId": "daed9e9c-7f4d-48e3-b948-4da6982b5636",
    "scrolled": false
   },
   "outputs": [],
   "source": [
    "pd.set_option(\"display.max_rows\", 200)\n",
    "tabs = pn.Tabs(height=1000)\n",
    "\n",
    "lookback_date = last_date - timedelta(days=SHORT_LOOKBACK)\n",
    "\n",
    "tabs.append(state_summary(get_for_country_day(stat_date = { \"$gt\": lookback_date}).groupby(['state','date']).sum(),\n",
    "                          label='National US',lookback=SHORT_LOOKBACK))\n",
    "tabs.append(state_summary(get_for_country_day(country='Portugal', \n",
    "                                              stat_date = { \"$gt\": lookback_date}).groupby(['combined_name','date']).sum(),\n",
    "                          label='Portugal',lookback=SHORT_LOOKBACK))\n",
    "for state in config['state_list']:\n",
    "    df = get_for_country_day(state=state,stat_date = { \"$gt\": lookback_date})\n",
    "    df = df.groupby(['combined_name','date']).sum()\n",
    "    summary = state_summary(df,label=state,lookback=SHORT_LOOKBACK)\n",
    "    summary.append(pn.widgets.StaticText(name='Trend',value=''))\n",
    "    tabs.append(summary)\n",
    "tabs"
   ]
  },
  {
   "cell_type": "markdown",
   "metadata": {},
   "source": [
    "## Death and Diagnosis Trending\n",
    "\n",
    "McKinley is the County that contains the city of Gallup, New Mexico, which has been in the news lately."
   ]
  },
  {
   "cell_type": "code",
   "execution_count": null,
   "metadata": {},
   "outputs": [],
   "source": [
    "lookback_date = datetime.now() - timedelta(days=LONG_LOOKBACK)\n",
    "city_list = config['city_list']\n",
    "our_cities = snag_data(\n",
    "          combined_name={ \"$in\": city_list},\n",
    "          date={ \"$gt\": lookback_date})\n",
    "our_cities.groupby('combined_name').sum()\n",
    "our_cities['per_capita_deaths']    = our_cities['deaths']/our_cities['population']\n",
    "our_cities['per_capita_confirmed'] = our_cities['confirmed']/our_cities['population']\n"
   ]
  },
  {
   "cell_type": "code",
   "execution_count": null,
   "metadata": {
    "pycharm": {
     "name": "#%%\n"
    }
   },
   "outputs": [],
   "source": [
    "tabs = pn.Tabs()\n",
    "for column in ['deaths','per_capita_deaths','confirmed','per_capita_confirmed']:\n",
    "    \n",
    "    tabs.append( make_graph(our_cities,column))\n",
    "    \n",
    "tabs "
   ]
  },
  {
   "cell_type": "markdown",
   "metadata": {},
   "source": [
    "## Daily Deltas\n",
    "\n",
    "The numbers of deaths or diagnosis is probably not the most useful number, rather the number of new cases is our measure.  Ideally we'd like to know when the infected population is less than 1 in a million.  Given the continued difficulty testing I personally have been paying more attention to daily death counts."
   ]
  },
  {
   "cell_type": "markdown",
   "metadata": {},
   "source": [
    "Predicted lines are based on a five day rolling average and assume reccent trends will continue, this is extremely simplistic.  The prediction runs in parallel with the data for a few days to give a sense of it's accuracy. "
   ]
  },
  {
   "cell_type": "code",
   "execution_count": null,
   "metadata": {
    "scrolled": false
   },
   "outputs": [],
   "source": [
    "tabs = pn.Tabs(width=800,tabs_location='left')\n",
    "for column in ['deaths','per_capita_deaths','confirmed','per_capita_confirmed']:\n",
    "    tabs.extend(column_summary(our_cities,column))\n",
    "\n",
    "tabs"
   ]
  },
  {
   "cell_type": "markdown",
   "metadata": {
    "colab_type": "text",
    "id": "bodEMGV0VIcc"
   },
   "source": [
    "## Cases near our key locations\n",
    "\n",
    "This query searches for statistics for the most recent day in the collection which are reported for locations near key locations.  Rhode Island does not report geographic locations of deaths and shows up as zero, I have not found the same error in any other location."
   ]
  },
  {
   "cell_type": "code",
   "execution_count": null,
   "metadata": {
    "colab": {
     "base_uri": "https://localhost:8080/",
     "height": 200
    },
    "colab_type": "code",
    "id": "49mwWydVPAjb",
    "outputId": "c99aae7f-15d0-4964-fd4a-1f4ba917221f"
   },
   "outputs": [],
   "source": [
    "pn.Tabs(*chain(*[ \n",
    "    [\n",
    "         pn.widgets.DataFrame(near_by_data(distance_km=25,latitude=loc_data['latitude'], \n",
    "                                             longitude=loc_data['longitude']),\n",
    "                                width=600,name=f'{loc_name} 25km'),\n",
    "          pn.widgets.DataFrame(near_by_data(distance_km=100,latitude=loc_data['latitude'], \n",
    "                                             longitude=loc_data['longitude']),\n",
    "                                width=600,name=f'{loc_name} 100km'),   \n",
    "          pn.widgets.DataFrame(near_by_data(distance_km=250,latitude=loc_data['latitude'], \n",
    "                                             longitude=loc_data['longitude']),\n",
    "                                width=600,name=f'{loc_name} 250km'),  \n",
    "          pn.widgets.DataFrame(near_by_data(distance_km=500,latitude=loc_data['latitude'], \n",
    "                                             longitude=loc_data['longitude']),\n",
    "                                width=600,name=f'{loc_name} 500km')\n",
    "           ]\n",
    "          for loc_name, loc_data in config['locations'].items()])\n",
    "    ,\n",
    "    tabs_location='left',\n",
    "       )\n"
   ]
  }
 ],
 "metadata": {
  "colab": {
   "collapsed_sections": [],
   "name": "COVID19 Demo.ipynb",
   "provenance": []
  },
  "kernelspec": {
   "display_name": "Python 3",
   "language": "python",
   "name": "python3"
  },
  "language_info": {
   "codemirror_mode": {
    "name": "ipython",
    "version": 3
   },
   "file_extension": ".py",
   "mimetype": "text/x-python",
   "name": "python",
   "nbconvert_exporter": "python",
   "pygments_lexer": "ipython3",
   "version": "3.8.0"
  }
 },
 "nbformat": 4,
 "nbformat_minor": 1
}
